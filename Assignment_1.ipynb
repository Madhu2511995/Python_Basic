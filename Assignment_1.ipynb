{
 "cells": [
  {
   "cell_type": "markdown",
   "id": "8cffe425-b5c9-4dee-adf1-4e1a262bf489",
   "metadata": {},
   "source": [
    "Q1. Create one variable containing following type of data:\n",
    "(i) string\n",
    "(ii) list\n",
    "(iii) float\n",
    "(iv) tuple"
   ]
  },
  {
   "cell_type": "code",
   "execution_count": 4,
   "id": "eacdffea-49fa-4477-aa28-1ba289d3ceba",
   "metadata": {},
   "outputs": [],
   "source": [
    "a='Madhu'\n",
    "l=[1,2,3.0,'Madhu']\n",
    "b=3.0\n",
    "t=(1,2,3,0)"
   ]
  },
  {
   "cell_type": "markdown",
   "id": "b1b2ae12-9738-4191-89bb-a3f75d3f5626",
   "metadata": {},
   "source": [
    "Q2. Given are some following variables containing data:\n",
    "(i) var1 = ‘ ‘\n",
    "(ii) var2 = ‘[ DS , ML , Python]’\n",
    "(iii) var3 = [ ‘DS’ , ’ML’ , ‘Python’ ]\n",
    "(iv) var4 = 1.\n",
    "What will be the data type of the above given variable."
   ]
  },
  {
   "cell_type": "code",
   "execution_count": 6,
   "id": "529e9681-7f67-402e-828c-f91b81963ee9",
   "metadata": {},
   "outputs": [
    {
     "name": "stdout",
     "output_type": "stream",
     "text": [
      "<class 'str'>\n",
      "<class 'str'>\n",
      "<class 'list'>\n",
      "<class 'float'>\n"
     ]
    }
   ],
   "source": [
    "var1 = ' '\n",
    "var2 = '[ DS , ML , Python]'\n",
    "var3 = [ 'DS' , 'ML' , 'Python' ]\n",
    "var4 = 1.\n",
    "\n",
    "print(type(var1))\n",
    "print(type(var2))\n",
    "print(type(var3))\n",
    "print(type(var4))"
   ]
  },
  {
   "cell_type": "markdown",
   "id": "6dd9fd12-ff28-4952-a48e-6525ced9221b",
   "metadata": {},
   "source": [
    "Q3. Explain the use of the following operators using an example:\n",
    "(i) /\n",
    "(ii) %\n",
    "(iii) //\n",
    "(iv) **"
   ]
  },
  {
   "cell_type": "markdown",
   "id": "a0fc7b95-2c08-4436-9267-658bbed20eee",
   "metadata": {},
   "source": [
    "i) / =====> It is simple division operator its divided the value and display the result in flote data type"
   ]
  },
  {
   "cell_type": "code",
   "execution_count": 7,
   "id": "a968c200-0b54-478e-ba05-8e8ab07d3916",
   "metadata": {},
   "outputs": [
    {
     "name": "stdout",
     "output_type": "stream",
     "text": [
      "<class 'float'>\n"
     ]
    }
   ],
   "source": [
    "a=10\n",
    "b=2\n",
    "print(type(a/b))"
   ]
  },
  {
   "cell_type": "markdown",
   "id": "560276d2-875c-4684-83cb-9026e0f7aeeb",
   "metadata": {},
   "source": [
    "ii) % =====> Its divided the value and provided the remender"
   ]
  },
  {
   "cell_type": "code",
   "execution_count": 10,
   "id": "92e74f08-8233-4611-af15-e3135d26559f",
   "metadata": {},
   "outputs": [
    {
     "name": "stdout",
     "output_type": "stream",
     "text": [
      "1\n"
     ]
    }
   ],
   "source": [
    "print(10%3)"
   ]
  },
  {
   "cell_type": "markdown",
   "id": "dcd872dd-47e5-4e1f-a442-3917d77f77d8",
   "metadata": {},
   "source": [
    "iii) // ========> Its divided the value and rounds the result down to the nearest whole number"
   ]
  },
  {
   "cell_type": "code",
   "execution_count": 15,
   "id": "ba8291c8-dbc3-490c-8ce7-9f0f6b3c106e",
   "metadata": {},
   "outputs": [
    {
     "name": "stdout",
     "output_type": "stream",
     "text": [
      "3\n"
     ]
    }
   ],
   "source": [
    "print(10//3)\n",
    "      "
   ]
  },
  {
   "cell_type": "markdown",
   "id": "458b180e-89e0-4e6e-8a85-32f3ee8c332e",
   "metadata": {},
   "source": [
    "iv)** =======> It is power the value like exponent"
   ]
  },
  {
   "cell_type": "code",
   "execution_count": 16,
   "id": "51b7b42c-c4d1-4be9-838e-8d25969fd63b",
   "metadata": {},
   "outputs": [
    {
     "name": "stdout",
     "output_type": "stream",
     "text": [
      "9\n"
     ]
    }
   ],
   "source": [
    "print(3**2)"
   ]
  },
  {
   "cell_type": "markdown",
   "id": "ec94ceb6-8342-4b1b-bc61-2682883c2ca8",
   "metadata": {},
   "source": [
    "Q4. Create a list of length 10 of your choice containing multiple types of data. Using for loop print the\n",
    "element and its data type."
   ]
  },
  {
   "cell_type": "code",
   "execution_count": 18,
   "id": "89336eb7-4890-40bc-a480-f623003c9ac8",
   "metadata": {},
   "outputs": [
    {
     "name": "stdout",
     "output_type": "stream",
     "text": [
      "1\n",
      "<class 'int'>\n",
      "2\n",
      "<class 'int'>\n",
      "3\n",
      "<class 'int'>\n",
      "4.0\n",
      "<class 'float'>\n",
      "Madhu\n",
      "<class 'str'>\n",
      "True\n",
      "<class 'bool'>\n",
      "[10, 20]\n",
      "<class 'list'>\n",
      "(30, 40)\n",
      "<class 'tuple'>\n",
      "70\n",
      "<class 'int'>\n",
      "80.0\n",
      "<class 'float'>\n"
     ]
    }
   ],
   "source": [
    "l=[1,2,3,4.0,\"Madhu\",True,[10,20],(30,40),70,80.0]\n",
    "\n",
    "for i in l:\n",
    "    print(i)\n",
    "    print(type(i))"
   ]
  },
  {
   "cell_type": "markdown",
   "id": "e7e5e6a1-ff9a-4ac8-a7d6-7f0ae8d9ee4e",
   "metadata": {},
   "source": [
    "Q5. Using a while loop, verify if the number A is purely divisible by number B and if so then how many\n",
    "times it can be divisible."
   ]
  },
  {
   "cell_type": "code",
   "execution_count": 33,
   "id": "eab13a29-77b7-412d-b276-04b2920f04fd",
   "metadata": {},
   "outputs": [
    {
     "name": "stdout",
     "output_type": "stream",
     "text": [
      "1\n"
     ]
    }
   ],
   "source": [
    "a=50\n",
    "b=2\n",
    "count=0\n",
    "while a%b==0:\n",
    "    count +=1\n",
    "    a=a/b\n",
    "if count >0:\n",
    "    print(count)\n",
    "else:\n",
    "    print('a is not divisible by b')"
   ]
  },
  {
   "cell_type": "code",
   "execution_count": null,
   "id": "84256eb6-c098-4bf5-8eb1-e40b87323cd4",
   "metadata": {},
   "outputs": [],
   "source": []
  },
  {
   "cell_type": "markdown",
   "id": "9af50793-0168-4652-8f0f-082edd20b27c",
   "metadata": {},
   "source": [
    "Q6. Create a list containing 25 int type data. Using for loop and if-else condition print if the element is\n",
    "divisible by 3 or not."
   ]
  },
  {
   "cell_type": "code",
   "execution_count": 22,
   "id": "37095e0a-5fb6-46d1-a22f-c1c819b6e245",
   "metadata": {},
   "outputs": [
    {
     "name": "stdout",
     "output_type": "stream",
     "text": [
      "[1, 2, 3, 4, 5, 6, 7, 8, 9, 10, 11, 12, 13, 14, 15, 16, 17, 18, 19, 20, 21, 22, 23, 24, 25]\n",
      "3\n",
      "6\n",
      "9\n",
      "12\n",
      "15\n",
      "18\n",
      "21\n",
      "24\n"
     ]
    }
   ],
   "source": [
    "l=list(range(1,26))\n",
    "print(l)\n",
    "for i in l:\n",
    "    if i%3==0:\n",
    "        print(i)\n",
    "    else:\n",
    "        pass"
   ]
  },
  {
   "cell_type": "markdown",
   "id": "4705c913-c1f8-40f8-8f1e-130d41840eeb",
   "metadata": {},
   "source": [
    "Q7. What do you understand about mutable and immutable data types? Give examples for both showing\n",
    "this property."
   ]
  },
  {
   "cell_type": "markdown",
   "id": "513f88ff-1e7d-4b0f-b658-53755732be5c",
   "metadata": {},
   "source": [
    "Mutable : In mutable data type we can change the value for the existing value like list.\n",
    "          Ex-- if l=[1,2,3]\n",
    "          then l[0]=10 it is possible in Mutable data types"
   ]
  },
  {
   "cell_type": "code",
   "execution_count": 23,
   "id": "5e0d66ad-c1f5-4f53-ab2b-7e0eb2311aec",
   "metadata": {},
   "outputs": [
    {
     "name": "stdout",
     "output_type": "stream",
     "text": [
      "[1, 2, 3]\n",
      "[10, 2, 3]\n"
     ]
    }
   ],
   "source": [
    "l=[1,2,3]\n",
    "print(l)\n",
    "l[0]=10\n",
    "print(l)"
   ]
  },
  {
   "cell_type": "markdown",
   "id": "f0ade55f-bc62-489a-a2aa-25a0e8345a54",
   "metadata": {},
   "source": [
    "Immutable : In this data type we can not change the value for existing like String\n",
    "        Ex-- if s=\"Madhu\"\n",
    "                s[0]='K' its throw an error\n",
    "        "
   ]
  },
  {
   "cell_type": "code",
   "execution_count": 30,
   "id": "c5dc62ae-83b9-43ca-97f1-59248e4a3069",
   "metadata": {},
   "outputs": [
    {
     "name": "stdout",
     "output_type": "stream",
     "text": [
      "Madhu\n"
     ]
    },
    {
     "ename": "TypeError",
     "evalue": "'str' object does not support item assignment",
     "output_type": "error",
     "traceback": [
      "\u001b[0;31m---------------------------------------------------------------------------\u001b[0m",
      "\u001b[0;31mTypeError\u001b[0m                                 Traceback (most recent call last)",
      "Cell \u001b[0;32mIn[30], line 3\u001b[0m\n\u001b[1;32m      1\u001b[0m s\u001b[38;5;241m=\u001b[39m\u001b[38;5;124m\"\u001b[39m\u001b[38;5;124mMadhu\u001b[39m\u001b[38;5;124m\"\u001b[39m\n\u001b[1;32m      2\u001b[0m \u001b[38;5;28mprint\u001b[39m(s)\n\u001b[0;32m----> 3\u001b[0m \u001b[43ms\u001b[49m\u001b[43m[\u001b[49m\u001b[38;5;241;43m0\u001b[39;49m\u001b[43m]\u001b[49m\u001b[38;5;241m=\u001b[39m\u001b[38;5;124m'\u001b[39m\u001b[38;5;124mm\u001b[39m\u001b[38;5;124m'\u001b[39m\n\u001b[1;32m      4\u001b[0m \u001b[38;5;28mprint\u001b[39m(s)\n",
      "\u001b[0;31mTypeError\u001b[0m: 'str' object does not support item assignment"
     ]
    }
   ],
   "source": [
    "s=\"Madhu\"\n",
    "print(s)\n",
    "s[0]='m'\n",
    "print(s)"
   ]
  }
 ],
 "metadata": {
  "kernelspec": {
   "display_name": "Python 3 (ipykernel)",
   "language": "python",
   "name": "python3"
  },
  "language_info": {
   "codemirror_mode": {
    "name": "ipython",
    "version": 3
   },
   "file_extension": ".py",
   "mimetype": "text/x-python",
   "name": "python",
   "nbconvert_exporter": "python",
   "pygments_lexer": "ipython3",
   "version": "3.10.8"
  }
 },
 "nbformat": 4,
 "nbformat_minor": 5
}
